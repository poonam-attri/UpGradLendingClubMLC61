{
 "cells": [
  {
   "cell_type": "markdown",
   "id": "c5b4a71e",
   "metadata": {},
   "source": [
    "Import important python libraries"
   ]
  },
  {
   "cell_type": "code",
   "execution_count": 22,
   "id": "ec67762c",
   "metadata": {},
   "outputs": [],
   "source": [
    "import numpy as np\n",
    "import pandas as pd\n",
    "import seaborn as sns\n",
    "import matplotlib.pyplot as plt\n",
    "import warnings\n",
    "warnings.filterwarnings('ignore')"
   ]
  },
  {
   "cell_type": "markdown",
   "id": "136b7684",
   "metadata": {},
   "source": [
    "Read loan csv file into Jupyter"
   ]
  },
  {
   "cell_type": "code",
   "execution_count": 23,
   "id": "16f200a8",
   "metadata": {},
   "outputs": [],
   "source": [
    "df = pd.read_csv(\"loan.csv\")"
   ]
  },
  {
   "cell_type": "code",
   "execution_count": 24,
   "id": "72e83a94",
   "metadata": {},
   "outputs": [
    {
     "data": {
      "text/plain": [
       "(39717, 111)"
      ]
     },
     "execution_count": 24,
     "metadata": {},
     "output_type": "execute_result"
    }
   ],
   "source": [
    "#Checking shape of dataset to see number of rows and columns\n",
    "df.shape"
   ]
  },
  {
   "cell_type": "markdown",
   "id": "4a010475",
   "metadata": {},
   "source": [
    "There are 39717 rows and 111 columns in the given loan dataset"
   ]
  },
  {
   "cell_type": "code",
   "execution_count": 25,
   "id": "8b32f11e",
   "metadata": {},
   "outputs": [
    {
     "name": "stdout",
     "output_type": "stream",
     "text": [
      "<class 'pandas.core.frame.DataFrame'>\n",
      "RangeIndex: 39717 entries, 0 to 39716\n",
      "Columns: 111 entries, id to total_il_high_credit_limit\n",
      "dtypes: float64(74), int64(13), object(24)\n",
      "memory usage: 33.6+ MB\n"
     ]
    }
   ],
   "source": [
    "#Checking shape of dataset to see number of rows and columns\n",
    "df.info()"
   ]
  },
  {
   "cell_type": "code",
   "execution_count": 26,
   "id": "d9cb50b8",
   "metadata": {},
   "outputs": [
    {
     "data": {
      "text/plain": [
       "id                                  int64\n",
       "member_id                           int64\n",
       "loan_amnt                           int64\n",
       "funded_amnt                         int64\n",
       "funded_amnt_inv                   float64\n",
       "term                               object\n",
       "int_rate                           object\n",
       "installment                       float64\n",
       "grade                              object\n",
       "sub_grade                          object\n",
       "emp_title                          object\n",
       "emp_length                         object\n",
       "home_ownership                     object\n",
       "annual_inc                        float64\n",
       "verification_status                object\n",
       "issue_d                            object\n",
       "loan_status                        object\n",
       "pymnt_plan                         object\n",
       "url                                object\n",
       "desc                               object\n",
       "purpose                            object\n",
       "title                              object\n",
       "zip_code                           object\n",
       "addr_state                         object\n",
       "dti                               float64\n",
       "delinq_2yrs                         int64\n",
       "earliest_cr_line                   object\n",
       "inq_last_6mths                      int64\n",
       "mths_since_last_delinq            float64\n",
       "mths_since_last_record            float64\n",
       "open_acc                            int64\n",
       "pub_rec                             int64\n",
       "revol_bal                           int64\n",
       "revol_util                         object\n",
       "total_acc                           int64\n",
       "initial_list_status                object\n",
       "out_prncp                         float64\n",
       "out_prncp_inv                     float64\n",
       "total_pymnt                       float64\n",
       "total_pymnt_inv                   float64\n",
       "total_rec_prncp                   float64\n",
       "total_rec_int                     float64\n",
       "total_rec_late_fee                float64\n",
       "recoveries                        float64\n",
       "collection_recovery_fee           float64\n",
       "last_pymnt_d                       object\n",
       "last_pymnt_amnt                   float64\n",
       "next_pymnt_d                       object\n",
       "last_credit_pull_d                 object\n",
       "collections_12_mths_ex_med        float64\n",
       "mths_since_last_major_derog       float64\n",
       "policy_code                         int64\n",
       "application_type                   object\n",
       "annual_inc_joint                  float64\n",
       "dti_joint                         float64\n",
       "verification_status_joint         float64\n",
       "acc_now_delinq                      int64\n",
       "tot_coll_amt                      float64\n",
       "tot_cur_bal                       float64\n",
       "open_acc_6m                       float64\n",
       "open_il_6m                        float64\n",
       "open_il_12m                       float64\n",
       "open_il_24m                       float64\n",
       "mths_since_rcnt_il                float64\n",
       "total_bal_il                      float64\n",
       "il_util                           float64\n",
       "open_rv_12m                       float64\n",
       "open_rv_24m                       float64\n",
       "max_bal_bc                        float64\n",
       "all_util                          float64\n",
       "total_rev_hi_lim                  float64\n",
       "inq_fi                            float64\n",
       "total_cu_tl                       float64\n",
       "inq_last_12m                      float64\n",
       "acc_open_past_24mths              float64\n",
       "avg_cur_bal                       float64\n",
       "bc_open_to_buy                    float64\n",
       "bc_util                           float64\n",
       "chargeoff_within_12_mths          float64\n",
       "delinq_amnt                         int64\n",
       "mo_sin_old_il_acct                float64\n",
       "mo_sin_old_rev_tl_op              float64\n",
       "mo_sin_rcnt_rev_tl_op             float64\n",
       "mo_sin_rcnt_tl                    float64\n",
       "mort_acc                          float64\n",
       "mths_since_recent_bc              float64\n",
       "mths_since_recent_bc_dlq          float64\n",
       "mths_since_recent_inq             float64\n",
       "mths_since_recent_revol_delinq    float64\n",
       "num_accts_ever_120_pd             float64\n",
       "num_actv_bc_tl                    float64\n",
       "num_actv_rev_tl                   float64\n",
       "num_bc_sats                       float64\n",
       "num_bc_tl                         float64\n",
       "num_il_tl                         float64\n",
       "num_op_rev_tl                     float64\n",
       "num_rev_accts                     float64\n",
       "num_rev_tl_bal_gt_0               float64\n",
       "num_sats                          float64\n",
       "num_tl_120dpd_2m                  float64\n",
       "num_tl_30dpd                      float64\n",
       "num_tl_90g_dpd_24m                float64\n",
       "num_tl_op_past_12m                float64\n",
       "pct_tl_nvr_dlq                    float64\n",
       "percent_bc_gt_75                  float64\n",
       "pub_rec_bankruptcies              float64\n",
       "tax_liens                         float64\n",
       "tot_hi_cred_lim                   float64\n",
       "total_bal_ex_mort                 float64\n",
       "total_bc_limit                    float64\n",
       "total_il_high_credit_limit        float64\n",
       "dtype: object"
      ]
     },
     "execution_count": 26,
     "metadata": {},
     "output_type": "execute_result"
    }
   ],
   "source": [
    "#Checking data types of columns\n",
    "df.dtypes"
   ]
  },
  {
   "cell_type": "code",
   "execution_count": 27,
   "id": "d3f6b749",
   "metadata": {},
   "outputs": [
    {
     "data": {
      "text/html": [
       "<div>\n",
       "<style scoped>\n",
       "    .dataframe tbody tr th:only-of-type {\n",
       "        vertical-align: middle;\n",
       "    }\n",
       "\n",
       "    .dataframe tbody tr th {\n",
       "        vertical-align: top;\n",
       "    }\n",
       "\n",
       "    .dataframe thead th {\n",
       "        text-align: right;\n",
       "    }\n",
       "</style>\n",
       "<table border=\"1\" class=\"dataframe\">\n",
       "  <thead>\n",
       "    <tr style=\"text-align: right;\">\n",
       "      <th></th>\n",
       "      <th>id</th>\n",
       "      <th>member_id</th>\n",
       "      <th>loan_amnt</th>\n",
       "      <th>funded_amnt</th>\n",
       "      <th>funded_amnt_inv</th>\n",
       "      <th>term</th>\n",
       "      <th>int_rate</th>\n",
       "      <th>installment</th>\n",
       "      <th>grade</th>\n",
       "      <th>sub_grade</th>\n",
       "      <th>...</th>\n",
       "      <th>num_tl_90g_dpd_24m</th>\n",
       "      <th>num_tl_op_past_12m</th>\n",
       "      <th>pct_tl_nvr_dlq</th>\n",
       "      <th>percent_bc_gt_75</th>\n",
       "      <th>pub_rec_bankruptcies</th>\n",
       "      <th>tax_liens</th>\n",
       "      <th>tot_hi_cred_lim</th>\n",
       "      <th>total_bal_ex_mort</th>\n",
       "      <th>total_bc_limit</th>\n",
       "      <th>total_il_high_credit_limit</th>\n",
       "    </tr>\n",
       "  </thead>\n",
       "  <tbody>\n",
       "    <tr>\n",
       "      <th>0</th>\n",
       "      <td>1077501</td>\n",
       "      <td>1296599</td>\n",
       "      <td>5000</td>\n",
       "      <td>5000</td>\n",
       "      <td>4975.0</td>\n",
       "      <td>36 months</td>\n",
       "      <td>10.65%</td>\n",
       "      <td>162.87</td>\n",
       "      <td>B</td>\n",
       "      <td>B2</td>\n",
       "      <td>...</td>\n",
       "      <td>NaN</td>\n",
       "      <td>NaN</td>\n",
       "      <td>NaN</td>\n",
       "      <td>NaN</td>\n",
       "      <td>0.0</td>\n",
       "      <td>0.0</td>\n",
       "      <td>NaN</td>\n",
       "      <td>NaN</td>\n",
       "      <td>NaN</td>\n",
       "      <td>NaN</td>\n",
       "    </tr>\n",
       "    <tr>\n",
       "      <th>1</th>\n",
       "      <td>1077430</td>\n",
       "      <td>1314167</td>\n",
       "      <td>2500</td>\n",
       "      <td>2500</td>\n",
       "      <td>2500.0</td>\n",
       "      <td>60 months</td>\n",
       "      <td>15.27%</td>\n",
       "      <td>59.83</td>\n",
       "      <td>C</td>\n",
       "      <td>C4</td>\n",
       "      <td>...</td>\n",
       "      <td>NaN</td>\n",
       "      <td>NaN</td>\n",
       "      <td>NaN</td>\n",
       "      <td>NaN</td>\n",
       "      <td>0.0</td>\n",
       "      <td>0.0</td>\n",
       "      <td>NaN</td>\n",
       "      <td>NaN</td>\n",
       "      <td>NaN</td>\n",
       "      <td>NaN</td>\n",
       "    </tr>\n",
       "    <tr>\n",
       "      <th>2</th>\n",
       "      <td>1077175</td>\n",
       "      <td>1313524</td>\n",
       "      <td>2400</td>\n",
       "      <td>2400</td>\n",
       "      <td>2400.0</td>\n",
       "      <td>36 months</td>\n",
       "      <td>15.96%</td>\n",
       "      <td>84.33</td>\n",
       "      <td>C</td>\n",
       "      <td>C5</td>\n",
       "      <td>...</td>\n",
       "      <td>NaN</td>\n",
       "      <td>NaN</td>\n",
       "      <td>NaN</td>\n",
       "      <td>NaN</td>\n",
       "      <td>0.0</td>\n",
       "      <td>0.0</td>\n",
       "      <td>NaN</td>\n",
       "      <td>NaN</td>\n",
       "      <td>NaN</td>\n",
       "      <td>NaN</td>\n",
       "    </tr>\n",
       "    <tr>\n",
       "      <th>3</th>\n",
       "      <td>1076863</td>\n",
       "      <td>1277178</td>\n",
       "      <td>10000</td>\n",
       "      <td>10000</td>\n",
       "      <td>10000.0</td>\n",
       "      <td>36 months</td>\n",
       "      <td>13.49%</td>\n",
       "      <td>339.31</td>\n",
       "      <td>C</td>\n",
       "      <td>C1</td>\n",
       "      <td>...</td>\n",
       "      <td>NaN</td>\n",
       "      <td>NaN</td>\n",
       "      <td>NaN</td>\n",
       "      <td>NaN</td>\n",
       "      <td>0.0</td>\n",
       "      <td>0.0</td>\n",
       "      <td>NaN</td>\n",
       "      <td>NaN</td>\n",
       "      <td>NaN</td>\n",
       "      <td>NaN</td>\n",
       "    </tr>\n",
       "    <tr>\n",
       "      <th>4</th>\n",
       "      <td>1075358</td>\n",
       "      <td>1311748</td>\n",
       "      <td>3000</td>\n",
       "      <td>3000</td>\n",
       "      <td>3000.0</td>\n",
       "      <td>60 months</td>\n",
       "      <td>12.69%</td>\n",
       "      <td>67.79</td>\n",
       "      <td>B</td>\n",
       "      <td>B5</td>\n",
       "      <td>...</td>\n",
       "      <td>NaN</td>\n",
       "      <td>NaN</td>\n",
       "      <td>NaN</td>\n",
       "      <td>NaN</td>\n",
       "      <td>0.0</td>\n",
       "      <td>0.0</td>\n",
       "      <td>NaN</td>\n",
       "      <td>NaN</td>\n",
       "      <td>NaN</td>\n",
       "      <td>NaN</td>\n",
       "    </tr>\n",
       "  </tbody>\n",
       "</table>\n",
       "<p>5 rows × 111 columns</p>\n",
       "</div>"
      ],
      "text/plain": [
       "        id  member_id  loan_amnt  funded_amnt  funded_amnt_inv        term  \\\n",
       "0  1077501    1296599       5000         5000           4975.0   36 months   \n",
       "1  1077430    1314167       2500         2500           2500.0   60 months   \n",
       "2  1077175    1313524       2400         2400           2400.0   36 months   \n",
       "3  1076863    1277178      10000        10000          10000.0   36 months   \n",
       "4  1075358    1311748       3000         3000           3000.0   60 months   \n",
       "\n",
       "  int_rate  installment grade sub_grade  ... num_tl_90g_dpd_24m  \\\n",
       "0   10.65%       162.87     B        B2  ...                NaN   \n",
       "1   15.27%        59.83     C        C4  ...                NaN   \n",
       "2   15.96%        84.33     C        C5  ...                NaN   \n",
       "3   13.49%       339.31     C        C1  ...                NaN   \n",
       "4   12.69%        67.79     B        B5  ...                NaN   \n",
       "\n",
       "  num_tl_op_past_12m pct_tl_nvr_dlq  percent_bc_gt_75 pub_rec_bankruptcies  \\\n",
       "0                NaN            NaN               NaN                  0.0   \n",
       "1                NaN            NaN               NaN                  0.0   \n",
       "2                NaN            NaN               NaN                  0.0   \n",
       "3                NaN            NaN               NaN                  0.0   \n",
       "4                NaN            NaN               NaN                  0.0   \n",
       "\n",
       "  tax_liens tot_hi_cred_lim total_bal_ex_mort total_bc_limit  \\\n",
       "0       0.0             NaN               NaN            NaN   \n",
       "1       0.0             NaN               NaN            NaN   \n",
       "2       0.0             NaN               NaN            NaN   \n",
       "3       0.0             NaN               NaN            NaN   \n",
       "4       0.0             NaN               NaN            NaN   \n",
       "\n",
       "  total_il_high_credit_limit  \n",
       "0                        NaN  \n",
       "1                        NaN  \n",
       "2                        NaN  \n",
       "3                        NaN  \n",
       "4                        NaN  \n",
       "\n",
       "[5 rows x 111 columns]"
      ]
     },
     "execution_count": 27,
     "metadata": {},
     "output_type": "execute_result"
    }
   ],
   "source": [
    "#Checking few records from the top\n",
    "df.head()"
   ]
  },
  {
   "cell_type": "markdown",
   "id": "d097ad78",
   "metadata": {},
   "source": [
    "Cleaning up columns for computability"
   ]
  },
  {
   "cell_type": "code",
   "execution_count": 28,
   "id": "e778fb75",
   "metadata": {},
   "outputs": [],
   "source": [
    "df['int_rate'] = df['int_rate'].apply(lambda x: float(x.rstrip('%'))) \n",
    "df['term'] = df['term'].apply(lambda x: int(x.rstrip(' months'))) "
   ]
  },
  {
   "cell_type": "code",
   "execution_count": 29,
   "id": "c1d52974",
   "metadata": {},
   "outputs": [
    {
     "data": {
      "text/html": [
       "<div>\n",
       "<style scoped>\n",
       "    .dataframe tbody tr th:only-of-type {\n",
       "        vertical-align: middle;\n",
       "    }\n",
       "\n",
       "    .dataframe tbody tr th {\n",
       "        vertical-align: top;\n",
       "    }\n",
       "\n",
       "    .dataframe thead th {\n",
       "        text-align: right;\n",
       "    }\n",
       "</style>\n",
       "<table border=\"1\" class=\"dataframe\">\n",
       "  <thead>\n",
       "    <tr style=\"text-align: right;\">\n",
       "      <th></th>\n",
       "      <th>id</th>\n",
       "      <th>member_id</th>\n",
       "      <th>loan_amnt</th>\n",
       "      <th>funded_amnt</th>\n",
       "      <th>funded_amnt_inv</th>\n",
       "      <th>term</th>\n",
       "      <th>int_rate</th>\n",
       "      <th>installment</th>\n",
       "      <th>grade</th>\n",
       "      <th>sub_grade</th>\n",
       "      <th>...</th>\n",
       "      <th>num_tl_90g_dpd_24m</th>\n",
       "      <th>num_tl_op_past_12m</th>\n",
       "      <th>pct_tl_nvr_dlq</th>\n",
       "      <th>percent_bc_gt_75</th>\n",
       "      <th>pub_rec_bankruptcies</th>\n",
       "      <th>tax_liens</th>\n",
       "      <th>tot_hi_cred_lim</th>\n",
       "      <th>total_bal_ex_mort</th>\n",
       "      <th>total_bc_limit</th>\n",
       "      <th>total_il_high_credit_limit</th>\n",
       "    </tr>\n",
       "  </thead>\n",
       "  <tbody>\n",
       "    <tr>\n",
       "      <th>0</th>\n",
       "      <td>1077501</td>\n",
       "      <td>1296599</td>\n",
       "      <td>5000</td>\n",
       "      <td>5000</td>\n",
       "      <td>4975.0</td>\n",
       "      <td>36</td>\n",
       "      <td>10.65</td>\n",
       "      <td>162.87</td>\n",
       "      <td>B</td>\n",
       "      <td>B2</td>\n",
       "      <td>...</td>\n",
       "      <td>NaN</td>\n",
       "      <td>NaN</td>\n",
       "      <td>NaN</td>\n",
       "      <td>NaN</td>\n",
       "      <td>0.0</td>\n",
       "      <td>0.0</td>\n",
       "      <td>NaN</td>\n",
       "      <td>NaN</td>\n",
       "      <td>NaN</td>\n",
       "      <td>NaN</td>\n",
       "    </tr>\n",
       "    <tr>\n",
       "      <th>1</th>\n",
       "      <td>1077430</td>\n",
       "      <td>1314167</td>\n",
       "      <td>2500</td>\n",
       "      <td>2500</td>\n",
       "      <td>2500.0</td>\n",
       "      <td>60</td>\n",
       "      <td>15.27</td>\n",
       "      <td>59.83</td>\n",
       "      <td>C</td>\n",
       "      <td>C4</td>\n",
       "      <td>...</td>\n",
       "      <td>NaN</td>\n",
       "      <td>NaN</td>\n",
       "      <td>NaN</td>\n",
       "      <td>NaN</td>\n",
       "      <td>0.0</td>\n",
       "      <td>0.0</td>\n",
       "      <td>NaN</td>\n",
       "      <td>NaN</td>\n",
       "      <td>NaN</td>\n",
       "      <td>NaN</td>\n",
       "    </tr>\n",
       "    <tr>\n",
       "      <th>2</th>\n",
       "      <td>1077175</td>\n",
       "      <td>1313524</td>\n",
       "      <td>2400</td>\n",
       "      <td>2400</td>\n",
       "      <td>2400.0</td>\n",
       "      <td>36</td>\n",
       "      <td>15.96</td>\n",
       "      <td>84.33</td>\n",
       "      <td>C</td>\n",
       "      <td>C5</td>\n",
       "      <td>...</td>\n",
       "      <td>NaN</td>\n",
       "      <td>NaN</td>\n",
       "      <td>NaN</td>\n",
       "      <td>NaN</td>\n",
       "      <td>0.0</td>\n",
       "      <td>0.0</td>\n",
       "      <td>NaN</td>\n",
       "      <td>NaN</td>\n",
       "      <td>NaN</td>\n",
       "      <td>NaN</td>\n",
       "    </tr>\n",
       "    <tr>\n",
       "      <th>3</th>\n",
       "      <td>1076863</td>\n",
       "      <td>1277178</td>\n",
       "      <td>10000</td>\n",
       "      <td>10000</td>\n",
       "      <td>10000.0</td>\n",
       "      <td>36</td>\n",
       "      <td>13.49</td>\n",
       "      <td>339.31</td>\n",
       "      <td>C</td>\n",
       "      <td>C1</td>\n",
       "      <td>...</td>\n",
       "      <td>NaN</td>\n",
       "      <td>NaN</td>\n",
       "      <td>NaN</td>\n",
       "      <td>NaN</td>\n",
       "      <td>0.0</td>\n",
       "      <td>0.0</td>\n",
       "      <td>NaN</td>\n",
       "      <td>NaN</td>\n",
       "      <td>NaN</td>\n",
       "      <td>NaN</td>\n",
       "    </tr>\n",
       "    <tr>\n",
       "      <th>4</th>\n",
       "      <td>1075358</td>\n",
       "      <td>1311748</td>\n",
       "      <td>3000</td>\n",
       "      <td>3000</td>\n",
       "      <td>3000.0</td>\n",
       "      <td>60</td>\n",
       "      <td>12.69</td>\n",
       "      <td>67.79</td>\n",
       "      <td>B</td>\n",
       "      <td>B5</td>\n",
       "      <td>...</td>\n",
       "      <td>NaN</td>\n",
       "      <td>NaN</td>\n",
       "      <td>NaN</td>\n",
       "      <td>NaN</td>\n",
       "      <td>0.0</td>\n",
       "      <td>0.0</td>\n",
       "      <td>NaN</td>\n",
       "      <td>NaN</td>\n",
       "      <td>NaN</td>\n",
       "      <td>NaN</td>\n",
       "    </tr>\n",
       "  </tbody>\n",
       "</table>\n",
       "<p>5 rows × 111 columns</p>\n",
       "</div>"
      ],
      "text/plain": [
       "        id  member_id  loan_amnt  funded_amnt  funded_amnt_inv  term  \\\n",
       "0  1077501    1296599       5000         5000           4975.0    36   \n",
       "1  1077430    1314167       2500         2500           2500.0    60   \n",
       "2  1077175    1313524       2400         2400           2400.0    36   \n",
       "3  1076863    1277178      10000        10000          10000.0    36   \n",
       "4  1075358    1311748       3000         3000           3000.0    60   \n",
       "\n",
       "   int_rate  installment grade sub_grade  ... num_tl_90g_dpd_24m  \\\n",
       "0     10.65       162.87     B        B2  ...                NaN   \n",
       "1     15.27        59.83     C        C4  ...                NaN   \n",
       "2     15.96        84.33     C        C5  ...                NaN   \n",
       "3     13.49       339.31     C        C1  ...                NaN   \n",
       "4     12.69        67.79     B        B5  ...                NaN   \n",
       "\n",
       "  num_tl_op_past_12m pct_tl_nvr_dlq  percent_bc_gt_75 pub_rec_bankruptcies  \\\n",
       "0                NaN            NaN               NaN                  0.0   \n",
       "1                NaN            NaN               NaN                  0.0   \n",
       "2                NaN            NaN               NaN                  0.0   \n",
       "3                NaN            NaN               NaN                  0.0   \n",
       "4                NaN            NaN               NaN                  0.0   \n",
       "\n",
       "  tax_liens tot_hi_cred_lim total_bal_ex_mort total_bc_limit  \\\n",
       "0       0.0             NaN               NaN            NaN   \n",
       "1       0.0             NaN               NaN            NaN   \n",
       "2       0.0             NaN               NaN            NaN   \n",
       "3       0.0             NaN               NaN            NaN   \n",
       "4       0.0             NaN               NaN            NaN   \n",
       "\n",
       "  total_il_high_credit_limit  \n",
       "0                        NaN  \n",
       "1                        NaN  \n",
       "2                        NaN  \n",
       "3                        NaN  \n",
       "4                        NaN  \n",
       "\n",
       "[5 rows x 111 columns]"
      ]
     },
     "execution_count": 29,
     "metadata": {},
     "output_type": "execute_result"
    }
   ],
   "source": [
    "#Checking few records from the top again\n",
    "df.head()"
   ]
  },
  {
   "cell_type": "markdown",
   "id": "bd572bfd",
   "metadata": {},
   "source": [
    "Checking the mean percentage of null values in every column"
   ]
  },
  {
   "cell_type": "code",
   "execution_count": 30,
   "id": "361b758c",
   "metadata": {},
   "outputs": [
    {
     "data": {
      "text/plain": [
       "id                                  0.00\n",
       "member_id                           0.00\n",
       "loan_amnt                           0.00\n",
       "funded_amnt                         0.00\n",
       "funded_amnt_inv                     0.00\n",
       "term                                0.00\n",
       "int_rate                            0.00\n",
       "installment                         0.00\n",
       "grade                               0.00\n",
       "sub_grade                           0.00\n",
       "emp_title                           6.19\n",
       "emp_length                          2.71\n",
       "home_ownership                      0.00\n",
       "annual_inc                          0.00\n",
       "verification_status                 0.00\n",
       "issue_d                             0.00\n",
       "loan_status                         0.00\n",
       "pymnt_plan                          0.00\n",
       "url                                 0.00\n",
       "desc                               32.59\n",
       "purpose                             0.00\n",
       "title                               0.03\n",
       "zip_code                            0.00\n",
       "addr_state                          0.00\n",
       "dti                                 0.00\n",
       "delinq_2yrs                         0.00\n",
       "earliest_cr_line                    0.00\n",
       "inq_last_6mths                      0.00\n",
       "mths_since_last_delinq             64.66\n",
       "mths_since_last_record             92.99\n",
       "open_acc                            0.00\n",
       "pub_rec                             0.00\n",
       "revol_bal                           0.00\n",
       "revol_util                          0.13\n",
       "total_acc                           0.00\n",
       "initial_list_status                 0.00\n",
       "out_prncp                           0.00\n",
       "out_prncp_inv                       0.00\n",
       "total_pymnt                         0.00\n",
       "total_pymnt_inv                     0.00\n",
       "total_rec_prncp                     0.00\n",
       "total_rec_int                       0.00\n",
       "total_rec_late_fee                  0.00\n",
       "recoveries                          0.00\n",
       "collection_recovery_fee             0.00\n",
       "last_pymnt_d                        0.18\n",
       "last_pymnt_amnt                     0.00\n",
       "next_pymnt_d                       97.13\n",
       "last_credit_pull_d                  0.01\n",
       "collections_12_mths_ex_med          0.14\n",
       "mths_since_last_major_derog       100.00\n",
       "policy_code                         0.00\n",
       "application_type                    0.00\n",
       "annual_inc_joint                  100.00\n",
       "dti_joint                         100.00\n",
       "verification_status_joint         100.00\n",
       "acc_now_delinq                      0.00\n",
       "tot_coll_amt                      100.00\n",
       "tot_cur_bal                       100.00\n",
       "open_acc_6m                       100.00\n",
       "open_il_6m                        100.00\n",
       "open_il_12m                       100.00\n",
       "open_il_24m                       100.00\n",
       "mths_since_rcnt_il                100.00\n",
       "total_bal_il                      100.00\n",
       "il_util                           100.00\n",
       "open_rv_12m                       100.00\n",
       "open_rv_24m                       100.00\n",
       "max_bal_bc                        100.00\n",
       "all_util                          100.00\n",
       "total_rev_hi_lim                  100.00\n",
       "inq_fi                            100.00\n",
       "total_cu_tl                       100.00\n",
       "inq_last_12m                      100.00\n",
       "acc_open_past_24mths              100.00\n",
       "avg_cur_bal                       100.00\n",
       "bc_open_to_buy                    100.00\n",
       "bc_util                           100.00\n",
       "chargeoff_within_12_mths            0.14\n",
       "delinq_amnt                         0.00\n",
       "mo_sin_old_il_acct                100.00\n",
       "mo_sin_old_rev_tl_op              100.00\n",
       "mo_sin_rcnt_rev_tl_op             100.00\n",
       "mo_sin_rcnt_tl                    100.00\n",
       "mort_acc                          100.00\n",
       "mths_since_recent_bc              100.00\n",
       "mths_since_recent_bc_dlq          100.00\n",
       "mths_since_recent_inq             100.00\n",
       "mths_since_recent_revol_delinq    100.00\n",
       "num_accts_ever_120_pd             100.00\n",
       "num_actv_bc_tl                    100.00\n",
       "num_actv_rev_tl                   100.00\n",
       "num_bc_sats                       100.00\n",
       "num_bc_tl                         100.00\n",
       "num_il_tl                         100.00\n",
       "num_op_rev_tl                     100.00\n",
       "num_rev_accts                     100.00\n",
       "num_rev_tl_bal_gt_0               100.00\n",
       "num_sats                          100.00\n",
       "num_tl_120dpd_2m                  100.00\n",
       "num_tl_30dpd                      100.00\n",
       "num_tl_90g_dpd_24m                100.00\n",
       "num_tl_op_past_12m                100.00\n",
       "pct_tl_nvr_dlq                    100.00\n",
       "percent_bc_gt_75                  100.00\n",
       "pub_rec_bankruptcies                1.75\n",
       "tax_liens                           0.10\n",
       "tot_hi_cred_lim                   100.00\n",
       "total_bal_ex_mort                 100.00\n",
       "total_bc_limit                    100.00\n",
       "total_il_high_credit_limit        100.00\n",
       "dtype: float64"
      ]
     },
     "execution_count": 30,
     "metadata": {},
     "output_type": "execute_result"
    }
   ],
   "source": [
    "pd.options.display.max_rows = 150\n",
    "round(100*df.isnull().mean(),2)"
   ]
  },
  {
   "cell_type": "markdown",
   "id": "aa5f4024",
   "metadata": {},
   "source": [
    "As seen above, many columns have 90 percent or above null values. "
   ]
  },
  {
   "cell_type": "markdown",
   "id": "f0c906c3",
   "metadata": {},
   "source": [
    "Let's segregate the columns into numeric, categorical, date and extra columns to be able to prioritize important ones\n",
    "and drop unnecessary columns"
   ]
  },
  {
   "cell_type": "code",
   "execution_count": 31,
   "id": "9d523001",
   "metadata": {},
   "outputs": [],
   "source": [
    "extra_cols=['id','pymnt_plan','url','desc','earliest_cr_line','mths_since_last_delinq','mths_since_last_record','revol_bal'\n",
    "           ,'revol_util','initial_list_status','last_pymnt_d','last_pymnt_amnt','next_pymnt_d','last_credit_pull_d'\n",
    "            ,'mths_since_last_major_derog','policy_code','tot_coll_amt','tot_cur_bal','open_il_6m','open_il_12m','open_il_24m'\n",
    "            ,'mths_since_rcnt_il','total_bal_il','il_util','open_rv_12m','open_rv_24m','max_bal_bc','all_util'\n",
    "            ,'total_rev_hi_lim','inq_fi','total_cu_tl','inq_last_12m','acc_open_past_24mths','avg_cur_bal','bc_open_to_buy'\n",
    "            ,'bc_util','chargeoff_within_12_mths','delinq_amnt','mo_sin_old_il_acct','mo_sin_old_rev_tl_op'\n",
    "            ,'mo_sin_rcnt_rev_tl_op'\n",
    "            ,'mo_sin_rcnt_tl','mort_acc','mths_since_recent_bc','mths_since_recent_bc_dlq','mths_since_recent_inq'\n",
    "            ,'mths_since_recent_revol_delinq','num_accts_ever_120_pd','num_actv_bc_tl','num_actv_rev_tl','num_bc_sats'\n",
    "            ,'num_bc_tl','num_il_tl','num_op_rev_tl','num_rev_accts','num_rev_tl_bal_gt_0','num_sats','num_tl_120dpd_2m'\n",
    "            ,'num_tl_30dpd','num_tl_90g_dpd_24m','num_tl_op_past_12m','pct_tl_nvr_dlq','percent_bc_gt_75'\n",
    "            ,'pub_rec_bankruptcies','tax_liens','tot_hi_cred_lim','total_bal_ex_mort','total_bc_limit'\n",
    "            ,'total_il_high_credit_limit','open_acc_6m','verification_status_joint','dti_joint','annual_inc_joint'\n",
    "           ,'total_rec_late_fee','recoveries','collection_recovery_fee',\n",
    "          'collections_12_mths_ex_med','acc_now_delinq']\n",
    "\n",
    "num_cols=['loan_amnt','funded_amnt','funded_amnt_inv','int_rate','installment','emp_length','annual_inc','dti','delinq_2yrs'\n",
    "         ,'inq_last_6mths','open_acc','pub_rec','total_acc','out_prncp','out_prncp_inv','total_pymnt','total_pymnt_inv'\n",
    "         ,'total_rec_prncp','total_rec_int']\n",
    "\n",
    "cat_cols=['term','grade','emp_title','home_ownership','verification_status','loan_status','purpose','title','zip_code'\n",
    "          ,'addr_state','application_type',]\n",
    "          \n",
    "date_cols=['issue_d']"
   ]
  },
  {
   "cell_type": "markdown",
   "id": "c00f65da",
   "metadata": {},
   "source": [
    "Let's <b>drop columns</b> which are mostly null values and are NOT needed for analysis"
   ]
  },
  {
   "cell_type": "code",
   "execution_count": 32,
   "id": "13c339b6",
   "metadata": {},
   "outputs": [],
   "source": [
    "df = df.drop(columns=extra_cols,axis=1)"
   ]
  },
  {
   "cell_type": "code",
   "execution_count": 33,
   "id": "023635d7",
   "metadata": {},
   "outputs": [
    {
     "data": {
      "text/plain": [
       "member_id              0.00\n",
       "loan_amnt              0.00\n",
       "funded_amnt            0.00\n",
       "funded_amnt_inv        0.00\n",
       "term                   0.00\n",
       "int_rate               0.00\n",
       "installment            0.00\n",
       "grade                  0.00\n",
       "sub_grade              0.00\n",
       "emp_title              6.19\n",
       "emp_length             2.71\n",
       "home_ownership         0.00\n",
       "annual_inc             0.00\n",
       "verification_status    0.00\n",
       "issue_d                0.00\n",
       "loan_status            0.00\n",
       "purpose                0.00\n",
       "title                  0.03\n",
       "zip_code               0.00\n",
       "addr_state             0.00\n",
       "dti                    0.00\n",
       "delinq_2yrs            0.00\n",
       "inq_last_6mths         0.00\n",
       "open_acc               0.00\n",
       "pub_rec                0.00\n",
       "total_acc              0.00\n",
       "out_prncp              0.00\n",
       "out_prncp_inv          0.00\n",
       "total_pymnt            0.00\n",
       "total_pymnt_inv        0.00\n",
       "total_rec_prncp        0.00\n",
       "total_rec_int          0.00\n",
       "application_type       0.00\n",
       "dtype: float64"
      ]
     },
     "execution_count": 33,
     "metadata": {},
     "output_type": "execute_result"
    }
   ],
   "source": [
    "#Checking null proportion in dataset again\n",
    "pd.options.display.max_rows = 150\n",
    "round(100*df.isnull().mean(),2)"
   ]
  },
  {
   "cell_type": "markdown",
   "id": "932588ec",
   "metadata": {},
   "source": [
    "<b>Imputing missing values</b> in emp_title and emp_length columns"
   ]
  },
  {
   "cell_type": "code",
   "execution_count": 34,
   "id": "1b866a2d",
   "metadata": {},
   "outputs": [],
   "source": [
    "mode_emp_length = df['emp_length'].mode() #Checking most frequent value\n",
    "df['emp_length'] = df['emp_length'].fillna(mode_emp_length) #imputation\n",
    "\n",
    "mode_emp_title = df['emp_title'].mode() #Checking most frequent value\n",
    "df['emp_title'] = df['emp_title'].fillna(mode_emp_title)"
   ]
  },
  {
   "cell_type": "code",
   "execution_count": 18,
   "id": "1eb6b543",
   "metadata": {},
   "outputs": [
    {
     "data": {
      "text/plain": [
       "id                     0.00\n",
       "member_id              0.00\n",
       "loan_amnt              0.00\n",
       "funded_amnt            0.00\n",
       "funded_amnt_inv        0.00\n",
       "term                   0.00\n",
       "int_rate               0.00\n",
       "installment            0.00\n",
       "grade                  0.00\n",
       "sub_grade              0.00\n",
       "emp_title              6.19\n",
       "emp_length             2.71\n",
       "home_ownership         0.00\n",
       "annual_inc             0.00\n",
       "verification_status    0.00\n",
       "issue_d                0.00\n",
       "loan_status            0.00\n",
       "purpose                0.00\n",
       "title                  0.03\n",
       "zip_code               0.00\n",
       "addr_state             0.00\n",
       "dti                    0.00\n",
       "delinq_2yrs            0.00\n",
       "inq_last_6mths         0.00\n",
       "open_acc               0.00\n",
       "pub_rec                0.00\n",
       "total_acc              0.00\n",
       "out_prncp              0.00\n",
       "out_prncp_inv          0.00\n",
       "total_pymnt            0.00\n",
       "total_pymnt_inv        0.00\n",
       "total_rec_prncp        0.00\n",
       "total_rec_int          0.00\n",
       "application_type       0.00\n",
       "dtype: float64"
      ]
     },
     "execution_count": 18,
     "metadata": {},
     "output_type": "execute_result"
    }
   ],
   "source": [
    "#Checking null proportion in dataset again\n",
    "pd.options.display.max_rows = 150\n",
    "round(100*df.isnull().mean(),2)"
   ]
  },
  {
   "cell_type": "markdown",
   "id": "54593312",
   "metadata": {},
   "source": [
    "We're equipped with <b>clean</b> and <b>complete</b> data to proceed with <b>Exploratory Data Analysis</b> now"
   ]
  },
  {
   "cell_type": "markdown",
   "id": "251483d3",
   "metadata": {},
   "source": [
    "<b>Deriving</b> month and year values from issue date column for better analysis"
   ]
  },
  {
   "cell_type": "code",
   "execution_count": 38,
   "id": "0e4a75fe",
   "metadata": {},
   "outputs": [
    {
     "data": {
      "text/html": [
       "<div>\n",
       "<style scoped>\n",
       "    .dataframe tbody tr th:only-of-type {\n",
       "        vertical-align: middle;\n",
       "    }\n",
       "\n",
       "    .dataframe tbody tr th {\n",
       "        vertical-align: top;\n",
       "    }\n",
       "\n",
       "    .dataframe thead th {\n",
       "        text-align: right;\n",
       "    }\n",
       "</style>\n",
       "<table border=\"1\" class=\"dataframe\">\n",
       "  <thead>\n",
       "    <tr style=\"text-align: right;\">\n",
       "      <th></th>\n",
       "      <th>member_id</th>\n",
       "      <th>loan_amnt</th>\n",
       "      <th>funded_amnt</th>\n",
       "      <th>funded_amnt_inv</th>\n",
       "      <th>term</th>\n",
       "      <th>int_rate</th>\n",
       "      <th>installment</th>\n",
       "      <th>grade</th>\n",
       "      <th>sub_grade</th>\n",
       "      <th>emp_title</th>\n",
       "      <th>...</th>\n",
       "      <th>total_acc</th>\n",
       "      <th>out_prncp</th>\n",
       "      <th>out_prncp_inv</th>\n",
       "      <th>total_pymnt</th>\n",
       "      <th>total_pymnt_inv</th>\n",
       "      <th>total_rec_prncp</th>\n",
       "      <th>total_rec_int</th>\n",
       "      <th>application_type</th>\n",
       "      <th>issue_mon</th>\n",
       "      <th>issue_yr</th>\n",
       "    </tr>\n",
       "  </thead>\n",
       "  <tbody>\n",
       "    <tr>\n",
       "      <th>0</th>\n",
       "      <td>1296599</td>\n",
       "      <td>5000</td>\n",
       "      <td>5000</td>\n",
       "      <td>4975.0</td>\n",
       "      <td>36</td>\n",
       "      <td>10.65</td>\n",
       "      <td>162.87</td>\n",
       "      <td>B</td>\n",
       "      <td>B2</td>\n",
       "      <td>US Army</td>\n",
       "      <td>...</td>\n",
       "      <td>9</td>\n",
       "      <td>0.00</td>\n",
       "      <td>0.00</td>\n",
       "      <td>5863.155187</td>\n",
       "      <td>5833.84</td>\n",
       "      <td>5000.00</td>\n",
       "      <td>863.16</td>\n",
       "      <td>INDIVIDUAL</td>\n",
       "      <td>Dec</td>\n",
       "      <td>11</td>\n",
       "    </tr>\n",
       "    <tr>\n",
       "      <th>1</th>\n",
       "      <td>1314167</td>\n",
       "      <td>2500</td>\n",
       "      <td>2500</td>\n",
       "      <td>2500.0</td>\n",
       "      <td>60</td>\n",
       "      <td>15.27</td>\n",
       "      <td>59.83</td>\n",
       "      <td>C</td>\n",
       "      <td>C4</td>\n",
       "      <td>Ryder</td>\n",
       "      <td>...</td>\n",
       "      <td>4</td>\n",
       "      <td>0.00</td>\n",
       "      <td>0.00</td>\n",
       "      <td>1008.710000</td>\n",
       "      <td>1008.71</td>\n",
       "      <td>456.46</td>\n",
       "      <td>435.17</td>\n",
       "      <td>INDIVIDUAL</td>\n",
       "      <td>Dec</td>\n",
       "      <td>11</td>\n",
       "    </tr>\n",
       "    <tr>\n",
       "      <th>2</th>\n",
       "      <td>1313524</td>\n",
       "      <td>2400</td>\n",
       "      <td>2400</td>\n",
       "      <td>2400.0</td>\n",
       "      <td>36</td>\n",
       "      <td>15.96</td>\n",
       "      <td>84.33</td>\n",
       "      <td>C</td>\n",
       "      <td>C5</td>\n",
       "      <td>NaN</td>\n",
       "      <td>...</td>\n",
       "      <td>10</td>\n",
       "      <td>0.00</td>\n",
       "      <td>0.00</td>\n",
       "      <td>3005.666844</td>\n",
       "      <td>3005.67</td>\n",
       "      <td>2400.00</td>\n",
       "      <td>605.67</td>\n",
       "      <td>INDIVIDUAL</td>\n",
       "      <td>Dec</td>\n",
       "      <td>11</td>\n",
       "    </tr>\n",
       "    <tr>\n",
       "      <th>3</th>\n",
       "      <td>1277178</td>\n",
       "      <td>10000</td>\n",
       "      <td>10000</td>\n",
       "      <td>10000.0</td>\n",
       "      <td>36</td>\n",
       "      <td>13.49</td>\n",
       "      <td>339.31</td>\n",
       "      <td>C</td>\n",
       "      <td>C1</td>\n",
       "      <td>AIR RESOURCES BOARD</td>\n",
       "      <td>...</td>\n",
       "      <td>37</td>\n",
       "      <td>0.00</td>\n",
       "      <td>0.00</td>\n",
       "      <td>12231.890000</td>\n",
       "      <td>12231.89</td>\n",
       "      <td>10000.00</td>\n",
       "      <td>2214.92</td>\n",
       "      <td>INDIVIDUAL</td>\n",
       "      <td>Dec</td>\n",
       "      <td>11</td>\n",
       "    </tr>\n",
       "    <tr>\n",
       "      <th>4</th>\n",
       "      <td>1311748</td>\n",
       "      <td>3000</td>\n",
       "      <td>3000</td>\n",
       "      <td>3000.0</td>\n",
       "      <td>60</td>\n",
       "      <td>12.69</td>\n",
       "      <td>67.79</td>\n",
       "      <td>B</td>\n",
       "      <td>B5</td>\n",
       "      <td>University Medical Group</td>\n",
       "      <td>...</td>\n",
       "      <td>38</td>\n",
       "      <td>524.06</td>\n",
       "      <td>524.06</td>\n",
       "      <td>3513.330000</td>\n",
       "      <td>3513.33</td>\n",
       "      <td>2475.94</td>\n",
       "      <td>1037.39</td>\n",
       "      <td>INDIVIDUAL</td>\n",
       "      <td>Dec</td>\n",
       "      <td>11</td>\n",
       "    </tr>\n",
       "  </tbody>\n",
       "</table>\n",
       "<p>5 rows × 35 columns</p>\n",
       "</div>"
      ],
      "text/plain": [
       "   member_id  loan_amnt  funded_amnt  funded_amnt_inv  term  int_rate  \\\n",
       "0    1296599       5000         5000           4975.0    36     10.65   \n",
       "1    1314167       2500         2500           2500.0    60     15.27   \n",
       "2    1313524       2400         2400           2400.0    36     15.96   \n",
       "3    1277178      10000        10000          10000.0    36     13.49   \n",
       "4    1311748       3000         3000           3000.0    60     12.69   \n",
       "\n",
       "   installment grade sub_grade                 emp_title  ... total_acc  \\\n",
       "0       162.87     B        B2                   US Army  ...         9   \n",
       "1        59.83     C        C4                     Ryder  ...         4   \n",
       "2        84.33     C        C5                       NaN  ...        10   \n",
       "3       339.31     C        C1       AIR RESOURCES BOARD  ...        37   \n",
       "4        67.79     B        B5  University Medical Group  ...        38   \n",
       "\n",
       "  out_prncp  out_prncp_inv   total_pymnt total_pymnt_inv total_rec_prncp  \\\n",
       "0      0.00           0.00   5863.155187         5833.84         5000.00   \n",
       "1      0.00           0.00   1008.710000         1008.71          456.46   \n",
       "2      0.00           0.00   3005.666844         3005.67         2400.00   \n",
       "3      0.00           0.00  12231.890000        12231.89        10000.00   \n",
       "4    524.06         524.06   3513.330000         3513.33         2475.94   \n",
       "\n",
       "  total_rec_int application_type issue_mon issue_yr  \n",
       "0        863.16       INDIVIDUAL       Dec       11  \n",
       "1        435.17       INDIVIDUAL       Dec       11  \n",
       "2        605.67       INDIVIDUAL       Dec       11  \n",
       "3       2214.92       INDIVIDUAL       Dec       11  \n",
       "4       1037.39       INDIVIDUAL       Dec       11  \n",
       "\n",
       "[5 rows x 35 columns]"
      ]
     },
     "execution_count": 38,
     "metadata": {},
     "output_type": "execute_result"
    }
   ],
   "source": [
    "df['issue_mon'] = df['issue_d'].str[0:3] #Extracting issue month\n",
    "df['issue_yr'] = df['issue_d'].str[4:6] #Extracting issue yr\n",
    "df.head()"
   ]
  },
  {
   "cell_type": "code",
   "execution_count": 37,
   "id": "b4f2df23",
   "metadata": {},
   "outputs": [
    {
     "data": {
      "text/html": [
       "<div>\n",
       "<style scoped>\n",
       "    .dataframe tbody tr th:only-of-type {\n",
       "        vertical-align: middle;\n",
       "    }\n",
       "\n",
       "    .dataframe tbody tr th {\n",
       "        vertical-align: top;\n",
       "    }\n",
       "\n",
       "    .dataframe thead th {\n",
       "        text-align: right;\n",
       "    }\n",
       "</style>\n",
       "<table border=\"1\" class=\"dataframe\">\n",
       "  <thead>\n",
       "    <tr style=\"text-align: right;\">\n",
       "      <th></th>\n",
       "      <th>member_id</th>\n",
       "      <th>loan_amnt</th>\n",
       "      <th>funded_amnt</th>\n",
       "      <th>funded_amnt_inv</th>\n",
       "      <th>term</th>\n",
       "      <th>int_rate</th>\n",
       "      <th>installment</th>\n",
       "      <th>annual_inc</th>\n",
       "      <th>dti</th>\n",
       "      <th>delinq_2yrs</th>\n",
       "      <th>inq_last_6mths</th>\n",
       "      <th>open_acc</th>\n",
       "      <th>pub_rec</th>\n",
       "      <th>total_acc</th>\n",
       "      <th>out_prncp</th>\n",
       "      <th>out_prncp_inv</th>\n",
       "      <th>total_pymnt</th>\n",
       "      <th>total_pymnt_inv</th>\n",
       "      <th>total_rec_prncp</th>\n",
       "      <th>total_rec_int</th>\n",
       "    </tr>\n",
       "  </thead>\n",
       "  <tbody>\n",
       "    <tr>\n",
       "      <th>count</th>\n",
       "      <td>3.971700e+04</td>\n",
       "      <td>39717.000000</td>\n",
       "      <td>39717.000000</td>\n",
       "      <td>39717.000000</td>\n",
       "      <td>39717.000000</td>\n",
       "      <td>39717.000000</td>\n",
       "      <td>39717.000000</td>\n",
       "      <td>3.971700e+04</td>\n",
       "      <td>39717.000000</td>\n",
       "      <td>39717.000000</td>\n",
       "      <td>39717.000000</td>\n",
       "      <td>39717.000000</td>\n",
       "      <td>39717.000000</td>\n",
       "      <td>39717.000000</td>\n",
       "      <td>39717.000000</td>\n",
       "      <td>39717.000000</td>\n",
       "      <td>39717.000000</td>\n",
       "      <td>39717.000000</td>\n",
       "      <td>39717.000000</td>\n",
       "      <td>39717.000000</td>\n",
       "    </tr>\n",
       "    <tr>\n",
       "      <th>mean</th>\n",
       "      <td>8.504636e+05</td>\n",
       "      <td>11219.443815</td>\n",
       "      <td>10947.713196</td>\n",
       "      <td>10397.448868</td>\n",
       "      <td>42.418007</td>\n",
       "      <td>12.021177</td>\n",
       "      <td>324.561922</td>\n",
       "      <td>6.896893e+04</td>\n",
       "      <td>13.315130</td>\n",
       "      <td>0.146512</td>\n",
       "      <td>0.869200</td>\n",
       "      <td>9.294408</td>\n",
       "      <td>0.055065</td>\n",
       "      <td>22.088828</td>\n",
       "      <td>51.227887</td>\n",
       "      <td>50.989768</td>\n",
       "      <td>12153.596544</td>\n",
       "      <td>11567.149118</td>\n",
       "      <td>9793.348813</td>\n",
       "      <td>2263.663172</td>\n",
       "    </tr>\n",
       "    <tr>\n",
       "      <th>std</th>\n",
       "      <td>2.656783e+05</td>\n",
       "      <td>7456.670694</td>\n",
       "      <td>7187.238670</td>\n",
       "      <td>7128.450439</td>\n",
       "      <td>10.622815</td>\n",
       "      <td>3.724825</td>\n",
       "      <td>208.874874</td>\n",
       "      <td>6.379377e+04</td>\n",
       "      <td>6.678594</td>\n",
       "      <td>0.491812</td>\n",
       "      <td>1.070219</td>\n",
       "      <td>4.400282</td>\n",
       "      <td>0.237200</td>\n",
       "      <td>11.401709</td>\n",
       "      <td>375.172839</td>\n",
       "      <td>373.824457</td>\n",
       "      <td>9042.040766</td>\n",
       "      <td>8942.672613</td>\n",
       "      <td>7065.522127</td>\n",
       "      <td>2608.111964</td>\n",
       "    </tr>\n",
       "    <tr>\n",
       "      <th>min</th>\n",
       "      <td>7.069900e+04</td>\n",
       "      <td>500.000000</td>\n",
       "      <td>500.000000</td>\n",
       "      <td>0.000000</td>\n",
       "      <td>36.000000</td>\n",
       "      <td>5.420000</td>\n",
       "      <td>15.690000</td>\n",
       "      <td>4.000000e+03</td>\n",
       "      <td>0.000000</td>\n",
       "      <td>0.000000</td>\n",
       "      <td>0.000000</td>\n",
       "      <td>2.000000</td>\n",
       "      <td>0.000000</td>\n",
       "      <td>2.000000</td>\n",
       "      <td>0.000000</td>\n",
       "      <td>0.000000</td>\n",
       "      <td>0.000000</td>\n",
       "      <td>0.000000</td>\n",
       "      <td>0.000000</td>\n",
       "      <td>0.000000</td>\n",
       "    </tr>\n",
       "    <tr>\n",
       "      <th>25%</th>\n",
       "      <td>6.667800e+05</td>\n",
       "      <td>5500.000000</td>\n",
       "      <td>5400.000000</td>\n",
       "      <td>5000.000000</td>\n",
       "      <td>36.000000</td>\n",
       "      <td>9.250000</td>\n",
       "      <td>167.020000</td>\n",
       "      <td>4.040400e+04</td>\n",
       "      <td>8.170000</td>\n",
       "      <td>0.000000</td>\n",
       "      <td>0.000000</td>\n",
       "      <td>6.000000</td>\n",
       "      <td>0.000000</td>\n",
       "      <td>13.000000</td>\n",
       "      <td>0.000000</td>\n",
       "      <td>0.000000</td>\n",
       "      <td>5576.930000</td>\n",
       "      <td>5112.310000</td>\n",
       "      <td>4600.000000</td>\n",
       "      <td>662.180000</td>\n",
       "    </tr>\n",
       "    <tr>\n",
       "      <th>50%</th>\n",
       "      <td>8.508120e+05</td>\n",
       "      <td>10000.000000</td>\n",
       "      <td>9600.000000</td>\n",
       "      <td>8975.000000</td>\n",
       "      <td>36.000000</td>\n",
       "      <td>11.860000</td>\n",
       "      <td>280.220000</td>\n",
       "      <td>5.900000e+04</td>\n",
       "      <td>13.400000</td>\n",
       "      <td>0.000000</td>\n",
       "      <td>1.000000</td>\n",
       "      <td>9.000000</td>\n",
       "      <td>0.000000</td>\n",
       "      <td>20.000000</td>\n",
       "      <td>0.000000</td>\n",
       "      <td>0.000000</td>\n",
       "      <td>9899.640319</td>\n",
       "      <td>9287.150000</td>\n",
       "      <td>8000.000000</td>\n",
       "      <td>1348.910000</td>\n",
       "    </tr>\n",
       "    <tr>\n",
       "      <th>75%</th>\n",
       "      <td>1.047339e+06</td>\n",
       "      <td>15000.000000</td>\n",
       "      <td>15000.000000</td>\n",
       "      <td>14400.000000</td>\n",
       "      <td>60.000000</td>\n",
       "      <td>14.590000</td>\n",
       "      <td>430.780000</td>\n",
       "      <td>8.230000e+04</td>\n",
       "      <td>18.600000</td>\n",
       "      <td>0.000000</td>\n",
       "      <td>1.000000</td>\n",
       "      <td>12.000000</td>\n",
       "      <td>0.000000</td>\n",
       "      <td>29.000000</td>\n",
       "      <td>0.000000</td>\n",
       "      <td>0.000000</td>\n",
       "      <td>16534.433040</td>\n",
       "      <td>15798.810000</td>\n",
       "      <td>13653.260000</td>\n",
       "      <td>2833.400000</td>\n",
       "    </tr>\n",
       "    <tr>\n",
       "      <th>max</th>\n",
       "      <td>1.314167e+06</td>\n",
       "      <td>35000.000000</td>\n",
       "      <td>35000.000000</td>\n",
       "      <td>35000.000000</td>\n",
       "      <td>60.000000</td>\n",
       "      <td>24.590000</td>\n",
       "      <td>1305.190000</td>\n",
       "      <td>6.000000e+06</td>\n",
       "      <td>29.990000</td>\n",
       "      <td>11.000000</td>\n",
       "      <td>8.000000</td>\n",
       "      <td>44.000000</td>\n",
       "      <td>4.000000</td>\n",
       "      <td>90.000000</td>\n",
       "      <td>6311.470000</td>\n",
       "      <td>6307.370000</td>\n",
       "      <td>58563.679930</td>\n",
       "      <td>58563.680000</td>\n",
       "      <td>35000.020000</td>\n",
       "      <td>23563.680000</td>\n",
       "    </tr>\n",
       "  </tbody>\n",
       "</table>\n",
       "</div>"
      ],
      "text/plain": [
       "          member_id     loan_amnt   funded_amnt  funded_amnt_inv  \\\n",
       "count  3.971700e+04  39717.000000  39717.000000     39717.000000   \n",
       "mean   8.504636e+05  11219.443815  10947.713196     10397.448868   \n",
       "std    2.656783e+05   7456.670694   7187.238670      7128.450439   \n",
       "min    7.069900e+04    500.000000    500.000000         0.000000   \n",
       "25%    6.667800e+05   5500.000000   5400.000000      5000.000000   \n",
       "50%    8.508120e+05  10000.000000   9600.000000      8975.000000   \n",
       "75%    1.047339e+06  15000.000000  15000.000000     14400.000000   \n",
       "max    1.314167e+06  35000.000000  35000.000000     35000.000000   \n",
       "\n",
       "               term      int_rate   installment    annual_inc           dti  \\\n",
       "count  39717.000000  39717.000000  39717.000000  3.971700e+04  39717.000000   \n",
       "mean      42.418007     12.021177    324.561922  6.896893e+04     13.315130   \n",
       "std       10.622815      3.724825    208.874874  6.379377e+04      6.678594   \n",
       "min       36.000000      5.420000     15.690000  4.000000e+03      0.000000   \n",
       "25%       36.000000      9.250000    167.020000  4.040400e+04      8.170000   \n",
       "50%       36.000000     11.860000    280.220000  5.900000e+04     13.400000   \n",
       "75%       60.000000     14.590000    430.780000  8.230000e+04     18.600000   \n",
       "max       60.000000     24.590000   1305.190000  6.000000e+06     29.990000   \n",
       "\n",
       "        delinq_2yrs  inq_last_6mths      open_acc       pub_rec     total_acc  \\\n",
       "count  39717.000000    39717.000000  39717.000000  39717.000000  39717.000000   \n",
       "mean       0.146512        0.869200      9.294408      0.055065     22.088828   \n",
       "std        0.491812        1.070219      4.400282      0.237200     11.401709   \n",
       "min        0.000000        0.000000      2.000000      0.000000      2.000000   \n",
       "25%        0.000000        0.000000      6.000000      0.000000     13.000000   \n",
       "50%        0.000000        1.000000      9.000000      0.000000     20.000000   \n",
       "75%        0.000000        1.000000     12.000000      0.000000     29.000000   \n",
       "max       11.000000        8.000000     44.000000      4.000000     90.000000   \n",
       "\n",
       "          out_prncp  out_prncp_inv   total_pymnt  total_pymnt_inv  \\\n",
       "count  39717.000000   39717.000000  39717.000000     39717.000000   \n",
       "mean      51.227887      50.989768  12153.596544     11567.149118   \n",
       "std      375.172839     373.824457   9042.040766      8942.672613   \n",
       "min        0.000000       0.000000      0.000000         0.000000   \n",
       "25%        0.000000       0.000000   5576.930000      5112.310000   \n",
       "50%        0.000000       0.000000   9899.640319      9287.150000   \n",
       "75%        0.000000       0.000000  16534.433040     15798.810000   \n",
       "max     6311.470000    6307.370000  58563.679930     58563.680000   \n",
       "\n",
       "       total_rec_prncp  total_rec_int  \n",
       "count     39717.000000   39717.000000  \n",
       "mean       9793.348813    2263.663172  \n",
       "std        7065.522127    2608.111964  \n",
       "min           0.000000       0.000000  \n",
       "25%        4600.000000     662.180000  \n",
       "50%        8000.000000    1348.910000  \n",
       "75%       13653.260000    2833.400000  \n",
       "max       35000.020000   23563.680000  "
      ]
     },
     "execution_count": 37,
     "metadata": {},
     "output_type": "execute_result"
    }
   ],
   "source": [
    "# Checking the spread of data across various features \n",
    "df.describe()"
   ]
  },
  {
   "cell_type": "markdown",
   "id": "6fb31818",
   "metadata": {},
   "source": [
    "pub_rec column indicating public derogatory mostly has 0 value except few outlier. It does NOT indicate \n",
    "a strong tendency for loan default"
   ]
  },
  {
   "cell_type": "markdown",
   "id": "3f911d35",
   "metadata": {},
   "source": [
    "<b>Dependent variable</b> is <b>loan_status</b>. Let's see its spread in the data in this <b>univariate</b> plot"
   ]
  },
  {
   "cell_type": "code",
   "execution_count": 39,
   "id": "6ff71430",
   "metadata": {},
   "outputs": [
    {
     "data": {
      "text/plain": [
       "<Axes: xlabel='loan_status'>"
      ]
     },
     "execution_count": 39,
     "metadata": {},
     "output_type": "execute_result"
    },
    {
     "data": {
      "image/png": "[encoded data removed]",
      "text/plain": [
       "<Figure size 640x480 with 1 Axes>"
      ]
     },
     "metadata": {},
     "output_type": "display_data"
    }
   ],
   "source": [
    "df['loan_status'].value_counts().plot.bar() #Dependent variable"
   ]
  },
  {
   "cell_type": "markdown",
   "id": "5fdbe829",
   "metadata": {},
   "source": [
    "As seen above, there's signicant chunk of loan records in Charged Off status. We want to understand which features \n",
    "affect status the most."
   ]
  },
  {
   "cell_type": "markdown",
   "id": "5ddce122",
   "metadata": {},
   "source": [
    "First, let's make this a numeric value for analysis"
   ]
  },
  {
   "cell_type": "code",
   "execution_count": 41,
   "id": "feacc9d5",
   "metadata": {},
   "outputs": [
    {
     "data": {
      "text/plain": [
       "loan_status_flag\n",
       "0    34090\n",
       "1     5627\n",
       "Name: count, dtype: int64"
      ]
     },
     "execution_count": 41,
     "metadata": {},
     "output_type": "execute_result"
    }
   ],
   "source": [
    "df['loan_status_flag'] = df['loan_status'].apply(lambda x: 1 if x == 'Charged Off' else 0)\n",
    "df['loan_status_flag'].value_counts()"
   ]
  },
  {
   "cell_type": "markdown",
   "id": "35b36f45",
   "metadata": {},
   "source": [
    "So, there are 5627 loan applicants as Charged Off i.e. which defaulted on loan payments"
   ]
  },
  {
   "cell_type": "markdown",
   "id": "07d2bdcb",
   "metadata": {},
   "source": [
    "Checking spread of loan status across different <b>issuance years</b>"
   ]
  },
  {
   "cell_type": "code",
   "execution_count": 51,
   "id": "78d349af",
   "metadata": {},
   "outputs": [
    {
     "data": {
      "text/plain": [
       "<Axes: xlabel='issue_yr'>"
      ]
     },
     "execution_count": 51,
     "metadata": {},
     "output_type": "execute_result"
    },
    {
     "data": {
      "image/png": "[encoded data removed]",
      "text/plain": [
       "<Figure size 640x480 with 1 Axes>"
      ]
     },
     "metadata": {},
     "output_type": "display_data"
    }
   ],
   "source": [
    "df['loan_status_flag'].groupby(df['issue_yr']).sum().plot.bar()"
   ]
  },
  {
   "cell_type": "markdown",
   "id": "9804215a",
   "metadata": {},
   "source": [
    "Loans issued in year <b>2010-11</b> defaulted more than others"
   ]
  },
  {
   "cell_type": "markdown",
   "id": "cae8fcee",
   "metadata": {},
   "source": [
    "Checking spread of loan status across different <b>term</b> values"
   ]
  },
  {
   "cell_type": "code",
   "execution_count": 59,
   "id": "fd5bd093",
   "metadata": {},
   "outputs": [
    {
     "data": {
      "image/png": "[encoded data removed]",
      "text/plain": [
       "<Figure size 500x500 with 1 Axes>"
      ]
     },
     "metadata": {},
     "output_type": "display_data"
    }
   ],
   "source": [
    "plt.figure(figsize=(5,5)) \n",
    "sns.boxplot(x=df['term'], y=df['loan_status'])\n",
    "plt.show()"
   ]
  },
  {
   "cell_type": "markdown",
   "id": "d9acc406",
   "metadata": {},
   "source": [
    "Most Charged Off loans are issued between 35-60 months of term"
   ]
  },
  {
   "cell_type": "markdown",
   "id": "19e9d0a1",
   "metadata": {},
   "source": [
    "Checking <b>employment length</b> spread of loan customers"
   ]
  },
  {
   "cell_type": "code",
   "execution_count": 56,
   "id": "ab52d36d",
   "metadata": {},
   "outputs": [
    {
     "data": {
      "text/plain": [
       "<Axes: xlabel='emp_length'>"
      ]
     },
     "execution_count": 56,
     "metadata": {},
     "output_type": "execute_result"
    },
    {
     "data": {
      "image/png": "[encoded data removed]",
      "text/plain": [
       "<Figure size 640x480 with 1 Axes>"
      ]
     },
     "metadata": {},
     "output_type": "display_data"
    }
   ],
   "source": [
    "df['emp_length'].value_counts().plot.bar()"
   ]
  },
  {
   "cell_type": "markdown",
   "id": "86bf98b6",
   "metadata": {},
   "source": [
    "Most customers are employed for more than 10 years"
   ]
  },
  {
   "cell_type": "markdown",
   "id": "f2d2d6e1",
   "metadata": {},
   "source": [
    "Checking spread of <b>purpose of loan</b> against loan status"
   ]
  },
  {
   "cell_type": "code",
   "execution_count": 46,
   "id": "dafa6730",
   "metadata": {},
   "outputs": [
    {
     "data": {
      "image/png": "[encoded data removed]",
      "text/plain": [
       "<Figure size 640x480 with 1 Axes>"
      ]
     },
     "metadata": {},
     "output_type": "display_data"
    },
    {
     "data": {
      "image/png": "[encoded data removed]",
      "text/plain": [
       "<Figure size 640x480 with 1 Axes>"
      ]
     },
     "metadata": {},
     "output_type": "display_data"
    }
   ],
   "source": [
    "stacked = pd.crosstab(index=df['purpose'], columns=df['loan_status'])\n",
    "stacked.plot(kind='bar', stacked=True)\n",
    "plt.show()\n",
    "\n",
    "purpose_wise_dist = df['loan_status_flag'].groupby(df['purpose']).sum()\n",
    "purpose_wise_dist.plot(kind='bar', stacked=True)\n",
    "plt.show()"
   ]
  },
  {
   "cell_type": "markdown",
   "id": "1967fd61",
   "metadata": {},
   "source": [
    "Other than debt consolidation and Other purpose loans, <b>Credit card</b> purpose loans seem to be charged off more often\n",
    "followed <b>Small business</b>"
   ]
  },
  {
   "cell_type": "markdown",
   "id": "d5a1dbe8",
   "metadata": {},
   "source": [
    "Checking if <b>loan amount</b> affects <b>loan repayment</b> behaviour in following <b>bivariate</b> box plot"
   ]
  },
  {
   "cell_type": "code",
   "execution_count": 42,
   "id": "075a0386",
   "metadata": {},
   "outputs": [
    {
     "data": {
      "image/png": "[encoded data removed]",
      "text/plain": [
       "<Figure size 500x500 with 1 Axes>"
      ]
     },
     "metadata": {},
     "output_type": "display_data"
    }
   ],
   "source": [
    "plt.figure(figsize=(5,5)) \n",
    "sns.boxplot(x=df['loan_amnt'], y=df['loan_status'])\n",
    "plt.show()"
   ]
  },
  {
   "cell_type": "markdown",
   "id": "3465c848",
   "metadata": {},
   "source": [
    "There is no strong relationship between loan amount and loan status variables. Chargdd Off loan amounts \n",
    "are in similar range as the Fully Paid loans"
   ]
  },
  {
   "cell_type": "code",
   "execution_count": 47,
   "id": "4a53e886",
   "metadata": {},
   "outputs": [
    {
     "data": {
      "text/plain": [
       "application_type\n",
       "INDIVIDUAL    39717\n",
       "Name: count, dtype: int64"
      ]
     },
     "execution_count": 47,
     "metadata": {},
     "output_type": "execute_result"
    }
   ],
   "source": [
    "#Checking application type\n",
    "df['application_type'].value_counts() "
   ]
  },
  {
   "cell_type": "markdown",
   "id": "de760636",
   "metadata": {},
   "source": [
    "Checking if <b>home ownership</b> affects loan status"
   ]
  },
  {
   "cell_type": "code",
   "execution_count": 49,
   "id": "a5b8efca",
   "metadata": {},
   "outputs": [
    {
     "data": {
      "text/plain": [
       "<Axes: xlabel='home_ownership'>"
      ]
     },
     "execution_count": 49,
     "metadata": {},
     "output_type": "execute_result"
    },
    {
     "data": {
      "image/png": "[encoded data removed]",
      "text/plain": [
       "<Figure size 640x480 with 1 Axes>"
      ]
     },
     "metadata": {},
     "output_type": "display_data"
    }
   ],
   "source": [
    "home_own_dist = df['loan_status_flag'].groupby(df['home_ownership']).sum()\n",
    "home_own_dist.plot(kind='bar', stacked=True)"
   ]
  },
  {
   "cell_type": "markdown",
   "id": "041d4a00",
   "metadata": {},
   "source": [
    "Loan applicants living in <b>rented or mortage</b> homes tend to default more than others"
   ]
  },
  {
   "cell_type": "markdown",
   "id": "6b4f10f1",
   "metadata": {},
   "source": [
    "Checking distribution of loan defaulters across <b>states</b>"
   ]
  },
  {
   "cell_type": "code",
   "execution_count": 53,
   "id": "cfc2869b",
   "metadata": {},
   "outputs": [
    {
     "data": {
      "image/png": "[encoded data removed]",
      "text/plain": [
       "<Figure size 1000x500 with 1 Axes>"
      ]
     },
     "metadata": {},
     "output_type": "display_data"
    }
   ],
   "source": [
    "plt.figure(figsize=(10,5)) \n",
    "state_dist = df['loan_status_flag'].groupby(df['addr_state']).sum()\n",
    "state_dist.plot(kind='bar', stacked=True) \n",
    "plt.show()"
   ]
  },
  {
   "cell_type": "markdown",
   "id": "e782c70e",
   "metadata": {},
   "source": [
    "<b>State California(CA)</b> have most loan charged off followed by <b>Florida(FL)</b> and <b>New York(NY)</b>"
   ]
  },
  {
   "cell_type": "markdown",
   "id": "e56bf7a6",
   "metadata": {},
   "source": [
    "Checking if there is any <b>correlation</b> between <b>interest rates,loan amount, term, annual income, debt to income ratio\n",
    "and loan status</b> using the following heatmap"
   ]
  },
  {
   "cell_type": "code",
   "execution_count": 55,
   "id": "e66c3cb3",
   "metadata": {},
   "outputs": [
    {
     "data": {
      "image/png": "[encoded data removed]",
      "text/plain": [
       "<Figure size 800x600 with 2 Axes>"
      ]
     },
     "metadata": {},
     "output_type": "display_data"
    }
   ],
   "source": [
    "plt.figure(figsize=(8,6)) \n",
    "sns.heatmap(df[[\"int_rate\",\"loan_amnt\",\"term\",\"annual_inc\",\"dti\",\"loan_status_flag\"]].corr(),annot=True) \n",
    "plt.show()"
   ]
  },
  {
   "cell_type": "markdown",
   "id": "2ed1732c",
   "metadata": {},
   "source": [
    "There is no strong correlation observed between the variables."
   ]
  },
  {
   "cell_type": "markdown",
   "id": "814a5fdc",
   "metadata": {},
   "source": [
    "# Summary & Recommendations"
   ]
  },
  {
   "cell_type": "markdown",
   "id": "9ae31818",
   "metadata": {},
   "source": [
    "Most of the Lending Club's loan customers are <b>employed</b> for <b>more than 10 years.</b>  \n",
    "\n",
    "Most Charged Off loans were <b>issued</b> in the year <b>2010-11.</b>  \n",
    "There can be further enquiries into those two years' records.  \n",
    "\n",
    "Most Charged Off loans are issued for <b>35-60 months</b> of <b>term.</b>  \n",
    "Higher loan terms applications should be more scrutinized.  \n",
    "\n",
    "Other than debt consolidation and Other purpose loans, <b>Credit card</b> purpose loans seem to be charged off \n",
    "more often followed <b>Small business.</b>  \n",
    "Hence, credit card and small business loan maybe charged with higher interest rates.  \n",
    "\n",
    "Loan applicants living in <b>rented</b> or <b>mortage</b> homes tend to default more than others.  \n",
    "Hence, these applications may be requested to have collateral support to mitigate risk.  \n",
    "\n",
    "<b>State California(CA)</b> have most loan charged off followed by Florida(FL) and New York(NY).  \n",
    "Loan applications in these states maybe charged with marginally higher interest rates than others."
   ]
  },
  {
   "cell_type": "code",
   "execution_count": null,
   "id": "5b20409c",
   "metadata": {},
   "outputs": [],
   "source": []
  }
 ],
 "metadata": {
  "kernelspec": {
   "display_name": "Python 3 (ipykernel)",
   "language": "python",
   "name": "python3"
  },
  "language_info": {
   "codemirror_mode": {
    "name": "ipython",
    "version": 3
   },
   "file_extension": ".py",
   "mimetype": "text/x-python",
   "name": "python",
   "nbconvert_exporter": "python",
   "pygments_lexer": "ipython3",
   "version": "3.11.5"
  }
 },
 "nbformat": 4,
 "nbformat_minor": 5
}
